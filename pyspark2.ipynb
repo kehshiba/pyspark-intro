{
 "cells": [
  {
   "cell_type": "code",
   "execution_count": 2,
   "id": "8c88f036-1aad-4bcf-8ada-108f292f0539",
   "metadata": {},
   "outputs": [],
   "source": [
    "from pyspark.sql import SparkSession"
   ]
  },
  {
   "cell_type": "code",
   "execution_count": 3,
   "id": "c261034d-fb7b-4716-bf02-2263bbba4fe5",
   "metadata": {},
   "outputs": [
    {
     "name": "stderr",
     "output_type": "stream",
     "text": [
      "21/12/29 21:03:07 WARN Utils: Your hostname, home resolves to a loopback address: 127.0.1.1; using 192.168.1.6 instead (on interface wlp4s0)\n",
      "21/12/29 21:03:07 WARN Utils: Set SPARK_LOCAL_IP if you need to bind to another address\n",
      "Using Spark's default log4j profile: org/apache/spark/log4j-defaults.properties\n",
      "Setting default log level to \"WARN\".\n",
      "To adjust logging level use sc.setLogLevel(newLevel). For SparkR, use setLogLevel(newLevel).\n",
      "21/12/29 21:03:18 WARN NativeCodeLoader: Unable to load native-hadoop library for your platform... using builtin-java classes where applicable\n"
     ]
    }
   ],
   "source": [
    "spark = SparkSession.builder.appName('Testing2').getOrCreate()"
   ]
  },
  {
   "cell_type": "code",
   "execution_count": 4,
   "id": "07658200-4718-4812-8c61-2b86bfeda55e",
   "metadata": {},
   "outputs": [
    {
     "data": {
      "text/html": [
       "\n",
       "            <div>\n",
       "                <p><b>SparkSession - in-memory</b></p>\n",
       "                \n",
       "        <div>\n",
       "            <p><b>SparkContext</b></p>\n",
       "\n",
       "            <p><a href=\"http://192.168.1.6:4040\">Spark UI</a></p>\n",
       "\n",
       "            <dl>\n",
       "              <dt>Version</dt>\n",
       "                <dd><code>v3.2.0</code></dd>\n",
       "              <dt>Master</dt>\n",
       "                <dd><code>local[*]</code></dd>\n",
       "              <dt>AppName</dt>\n",
       "                <dd><code>Testing2</code></dd>\n",
       "            </dl>\n",
       "        </div>\n",
       "        \n",
       "            </div>\n",
       "        "
      ],
      "text/plain": [
       "<pyspark.sql.session.SparkSession at 0x7fb1663bda30>"
      ]
     },
     "execution_count": 4,
     "metadata": {},
     "output_type": "execute_result"
    }
   ],
   "source": [
    "spark"
   ]
  },
  {
   "cell_type": "code",
   "execution_count": 5,
   "id": "c37ea2e2-2a65-419c-8941-3ad5e1f49663",
   "metadata": {},
   "outputs": [
    {
     "name": "stderr",
     "output_type": "stream",
     "text": [
      "                                                                                \r"
     ]
    }
   ],
   "source": [
    "dataframe = spark.read.csv('ds.csv',header=True,inferSchema=True)"
   ]
  },
  {
   "cell_type": "code",
   "execution_count": 8,
   "id": "cdd6bbe8-a5a9-48b2-9473-e40e015ec55b",
   "metadata": {},
   "outputs": [
    {
     "name": "stdout",
     "output_type": "stream",
     "text": [
      "+----------+---+---+\n",
      "|      Name|Age|Exp|\n",
      "+----------+---+---+\n",
      "|     Diena| 31| 10|\n",
      "|     Kayla| 25|  9|\n",
      "|Michaelina| 44|  5|\n",
      "|    Corene| 38|  7|\n",
      "|   Deloria| 35|  3|\n",
      "|   Tamqrah| 26|  8|\n",
      "|   Gertrud| 39|  8|\n",
      "| Kimberley| 30|  4|\n",
      "+----------+---+---+\n",
      "\n"
     ]
    }
   ],
   "source": [
    "dataframe.na.drop().show()\n",
    "#to drop all null values\n"
   ]
  },
  {
   "cell_type": "code",
   "execution_count": 10,
   "id": "483c701b-d1c7-45a8-b46f-e9f7f5accf0e",
   "metadata": {},
   "outputs": [
    {
     "name": "stdout",
     "output_type": "stream",
     "text": [
      "+----------+----+----+\n",
      "|      Name| Age| Exp|\n",
      "+----------+----+----+\n",
      "|     Diena|  31|  10|\n",
      "|     Kayla|  25|   9|\n",
      "|Michaelina|  44|   5|\n",
      "|    Corene|  38|   7|\n",
      "|   Deloria|  35|   3|\n",
      "|   Tamqrah|  26|   8|\n",
      "|   Gertrud|  39|   8|\n",
      "| Mireielle|null|   4|\n",
      "|     Jessy|  44|null|\n",
      "| Kimberley|  30|   4|\n",
      "+----------+----+----+\n",
      "\n"
     ]
    }
   ],
   "source": [
    "dataframe.na.drop(how=\"all\").show()\n",
    "#how==any(removes tuple with any null) or how==al (removes tuple with null value)"
   ]
  },
  {
   "cell_type": "code",
   "execution_count": 18,
   "id": "07634c63-1a83-44dd-81d5-2b6e57e7d97a",
   "metadata": {},
   "outputs": [
    {
     "name": "stdout",
     "output_type": "stream",
     "text": [
      "+----------+---+----+\n",
      "|      Name|Age| Exp|\n",
      "+----------+---+----+\n",
      "|     Diena| 31|  10|\n",
      "|     Kayla| 25|   9|\n",
      "|Michaelina| 44|   5|\n",
      "|    Corene| 38|   7|\n",
      "|   Deloria| 35|   3|\n",
      "|   Tamqrah| 26|   8|\n",
      "|   Gertrud| 39|   8|\n",
      "|     Jessy| 44|null|\n",
      "| Kimberley| 30|   4|\n",
      "+----------+---+----+\n",
      "\n"
     ]
    }
   ],
   "source": [
    "dataframe.na.drop(how=\"any\",thresh=2).show()\n",
    "#threshold condition for how"
   ]
  },
  {
   "cell_type": "code",
   "execution_count": 19,
   "id": "76b25386-e371-4f51-bd95-20feb3cf950b",
   "metadata": {},
   "outputs": [
    {
     "name": "stdout",
     "output_type": "stream",
     "text": [
      "+----------+---+---+\n",
      "|      Name|Age|Exp|\n",
      "+----------+---+---+\n",
      "|     Diena| 31| 10|\n",
      "|     Kayla| 25|  9|\n",
      "|Michaelina| 44|  5|\n",
      "|    Corene| 38|  7|\n",
      "|   Deloria| 35|  3|\n",
      "|   Tamqrah| 26|  8|\n",
      "|   Gertrud| 39|  8|\n",
      "| Kimberley| 30|  4|\n",
      "+----------+---+---+\n",
      "\n"
     ]
    }
   ],
   "source": [
    "dataframe.na.drop(how=\"any\",subset=['Exp']).show()\n",
    "#subset of Exp with a Null value drops\n"
   ]
  },
  {
   "cell_type": "code",
   "execution_count": 33,
   "id": "dcb3abf2-b535-4489-a55e-823492d61980",
   "metadata": {
    "tags": []
   },
   "outputs": [
    {
     "name": "stdout",
     "output_type": "stream",
     "text": [
      "+----------+----+----+\n",
      "|      Name| Age| Exp|\n",
      "+----------+----+----+\n",
      "|     Diena|  31|  10|\n",
      "|     Kayla|  25|   9|\n",
      "|Michaelina|  44|   5|\n",
      "|    Corene|  38|   7|\n",
      "|   Deloria|  35|   3|\n",
      "|   Tamqrah|  26|   8|\n",
      "|   Missing|  39|   8|\n",
      "| Mireielle|null|null|\n",
      "|     Jessy|  44|null|\n",
      "| Kimberley|  30|   4|\n",
      "+----------+----+----+\n",
      "\n"
     ]
    }
   ],
   "source": [
    "dataframe.na.fill(\"Missing\").show()"
   ]
  },
  {
   "cell_type": "code",
   "execution_count": 48,
   "id": "4e23f599-0aa6-4f7a-ae67-b50e54c859ab",
   "metadata": {},
   "outputs": [],
   "source": [
    "from pyspark.ml.feature import Imputer\n",
    "\n",
    "imp = Imputer(\n",
    "    inputCols=['Age','Exp'],\n",
    "    outputCols=[\"{}_imputed\".format(c) for c in ['Age','Exp']]\n",
    ").setStrategy(\"median\")"
   ]
  },
  {
   "cell_type": "code",
   "execution_count": 49,
   "id": "dcb138d1-1bfa-4ca1-a5bc-677e512599c2",
   "metadata": {},
   "outputs": [
    {
     "name": "stdout",
     "output_type": "stream",
     "text": [
      "+----------+----+----+-----------+-----------+\n",
      "|      Name| Age| Exp|Age_imputed|Exp_imputed|\n",
      "+----------+----+----+-----------+-----------+\n",
      "|     Diena|  31|  10|         31|         10|\n",
      "|     Kayla|  25|   9|         25|          9|\n",
      "|Michaelina|  44|   5|         44|          5|\n",
      "|    Corene|  38|   7|         38|          7|\n",
      "|   Deloria|  35|   3|         35|          3|\n",
      "|   Tamqrah|  26|   8|         26|          8|\n",
      "|      null|  39|   8|         39|          8|\n",
      "| Mireielle|null|null|         35|          7|\n",
      "|     Jessy|  44|null|         44|          7|\n",
      "| Kimberley|  30|   4|         30|          4|\n",
      "+----------+----+----+-----------+-----------+\n",
      "\n"
     ]
    }
   ],
   "source": [
    "imp.fit(dataframe).transform(dataframe).show()"
   ]
  }
 ],
 "metadata": {
  "kernelspec": {
   "display_name": "Python 3 (ipykernel)",
   "language": "python",
   "name": "python3"
  },
  "language_info": {
   "codemirror_mode": {
    "name": "ipython",
    "version": 3
   },
   "file_extension": ".py",
   "mimetype": "text/x-python",
   "name": "python",
   "nbconvert_exporter": "python",
   "pygments_lexer": "ipython3",
   "version": "3.8.12"
  }
 },
 "nbformat": 4,
 "nbformat_minor": 5
}
