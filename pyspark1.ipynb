{
 "cells": [
  {
   "cell_type": "code",
   "execution_count": 1,
   "id": "ca8ace78-b013-4bbd-9715-0cce97c8d631",
   "metadata": {},
   "outputs": [],
   "source": [
    "from pyspark.sql import SparkSession"
   ]
  },
  {
   "cell_type": "code",
   "execution_count": null,
   "id": "e27d68a6-f6a2-48c7-ae6c-9752680b1c3a",
   "metadata": {},
   "outputs": [],
   "source": [
    "# Initializing Spark"
   ]
  },
  {
   "cell_type": "code",
   "execution_count": null,
   "id": "3dbaa34d-f707-4a15-80ff-9dace910d3df",
   "metadata": {},
   "outputs": [],
   "source": [
    "spark=SparkSession.builder.appName('Testing').getOrCreate()"
   ]
  },
  {
   "cell_type": "code",
   "execution_count": null,
   "id": "7736d29f-a226-4a1f-b04d-39fdd8d15de8",
   "metadata": {},
   "outputs": [
    {
     "data": {
      "text/html": [
       "\n",
       "            <div>\n",
       "                <p><b>SparkSession - in-memory</b></p>\n",
       "                \n",
       "        <div>\n",
       "            <p><b>SparkContext</b></p>\n",
       "\n",
       "            <p><a href=\"http://192.168.1.6:4040\">Spark UI</a></p>\n",
       "\n",
       "            <dl>\n",
       "              <dt>Version</dt>\n",
       "                <dd><code>v3.2.0</code></dd>\n",
       "              <dt>Master</dt>\n",
       "                <dd><code>local[*]</code></dd>\n",
       "              <dt>AppName</dt>\n",
       "                <dd><code>Testing</code></dd>\n",
       "            </dl>\n",
       "        </div>\n",
       "        \n",
       "            </div>\n",
       "        "
      ],
      "text/plain": [
       "<pyspark.sql.session.SparkSession at 0x7f79825798e0>"
      ]
     },
     "execution_count": 4,
     "metadata": {},
     "output_type": "execute_result"
    }
   ],
   "source": [
    "spark"
   ]
  },
  {
   "cell_type": "code",
   "execution_count": 28,
   "id": "691e5d15-c820-4f70-a702-187a1b05102a",
   "metadata": {},
   "outputs": [],
   "source": [
    "#reads\n",
    "dataframe = spark.read.option('header','true').csv('ds.csv',inferSchema=True,sep='\\t')"
   ]
  },
  {
   "cell_type": "code",
   "execution_count": null,
   "id": "cbfa7882-b892-4b31-a94b-b4329a2d58f8",
   "metadata": {},
   "outputs": [],
   "source": [
    "# to note :\n",
    "#     inferSchema - gives default csv value\n",
    "#     header - to define titles\n",
    "    "
   ]
  },
  {
   "cell_type": "code",
   "execution_count": null,
   "id": "077930f5-8758-49a1-a855-708add5d29e3",
   "metadata": {},
   "outputs": [],
   "source": [
    "# Reading a CSV File"
   ]
  },
  {
   "cell_type": "code",
   "execution_count": 31,
   "id": "38f17e5b-16b3-4fbd-87a2-17d786a84503",
   "metadata": {},
   "outputs": [],
   "source": [
    "dataframe = spark.read.csv('ds.csv',header=True,inferSchema=True)\n"
   ]
  },
  {
   "cell_type": "code",
   "execution_count": 32,
   "id": "e819f1ec-7a6e-4d2d-adf2-95fa8cc0d644",
   "metadata": {},
   "outputs": [
    {
     "name": "stdout",
     "output_type": "stream",
     "text": [
      "+----------+---+---+\n",
      "|      Name|Age|Exp|\n",
      "+----------+---+---+\n",
      "|     Diena| 31| 10|\n",
      "|     Kayla| 25|  9|\n",
      "|Michaelina| 44|  5|\n",
      "|    Corene| 38|  7|\n",
      "|   Deloria| 35|  3|\n",
      "|   Tamqrah| 26|  8|\n",
      "|   Gertrud| 39|  8|\n",
      "| Mireielle| 35|  4|\n",
      "|     Jessy| 44|  4|\n",
      "| Kimberley| 30|  4|\n",
      "+----------+---+---+\n",
      "\n"
     ]
    }
   ],
   "source": [
    "# dataframe.head(3)\n",
    "dataframe.show()\n",
    "# dataframe.columns"
   ]
  },
  {
   "cell_type": "code",
   "execution_count": null,
   "id": "e37abd0f-01b6-4b85-8ff4-b34a0702457c",
   "metadata": {},
   "outputs": [],
   "source": [
    "# Selecting A Column"
   ]
  },
  {
   "cell_type": "code",
   "execution_count": 42,
   "id": "6171b172-e4c5-479a-bbb2-3ba269118527",
   "metadata": {},
   "outputs": [
    {
     "name": "stdout",
     "output_type": "stream",
     "text": [
      "+----------+---+\n",
      "|      Name|Exp|\n",
      "+----------+---+\n",
      "|     Diena| 10|\n",
      "|     Kayla|  9|\n",
      "|Michaelina|  5|\n",
      "|    Corene|  7|\n",
      "|   Deloria|  3|\n",
      "+----------+---+\n",
      "only showing top 5 rows\n",
      "\n"
     ]
    }
   ],
   "source": [
    "dataframe.select(['Name','Exp']).show(5)"
   ]
  },
  {
   "cell_type": "code",
   "execution_count": 45,
   "id": "fb9d3937-204d-4972-be85-172b678d8c92",
   "metadata": {},
   "outputs": [
    {
     "data": {
      "text/plain": [
       "[('Name', 'string'), ('Age', 'int'), ('Exp', 'int')]"
      ]
     },
     "execution_count": 45,
     "metadata": {},
     "output_type": "execute_result"
    }
   ],
   "source": [
    "dataframe.dtypes"
   ]
  },
  {
   "cell_type": "code",
   "execution_count": 47,
   "id": "c84d4df3-05b5-4bbb-9f40-c2fecf2f1f31",
   "metadata": {},
   "outputs": [
    {
     "name": "stdout",
     "output_type": "stream",
     "text": [
      "+-------+-------+-----------------+-----------------+\n",
      "|summary|   Name|              Age|              Exp|\n",
      "+-------+-------+-----------------+-----------------+\n",
      "|  count|     10|               10|               10|\n",
      "|   mean|   null|             34.7|              6.2|\n",
      "| stddev|   null|6.733828364641056|2.485513584307633|\n",
      "|    min| Corene|               25|                3|\n",
      "|    max|Tamqrah|               44|               10|\n",
      "+-------+-------+-----------------+-----------------+\n",
      "\n"
     ]
    }
   ],
   "source": [
    "dataframe.describe().show()"
   ]
  },
  {
   "cell_type": "code",
   "execution_count": null,
   "id": "83c09fb3-08cd-441c-945b-9e9313e1606e",
   "metadata": {},
   "outputs": [],
   "source": [
    "#Adding Columns"
   ]
  },
  {
   "cell_type": "code",
   "execution_count": 51,
   "id": "331c6313-562c-43b9-aeef-8f7d65b3c5be",
   "metadata": {},
   "outputs": [],
   "source": [
    "dataframe=dataframe.withColumn('Exp aft 2',dataframe['Exp']+2)"
   ]
  },
  {
   "cell_type": "code",
   "execution_count": 52,
   "id": "7845f70b-51fe-4d8b-9ca2-265cd5583c95",
   "metadata": {},
   "outputs": [
    {
     "name": "stdout",
     "output_type": "stream",
     "text": [
      "+----------+---+---+---------+\n",
      "|      Name|Age|Exp|Exp aft 2|\n",
      "+----------+---+---+---------+\n",
      "|     Diena| 31| 10|       12|\n",
      "|     Kayla| 25|  9|       11|\n",
      "|Michaelina| 44|  5|        7|\n",
      "|    Corene| 38|  7|        9|\n",
      "|   Deloria| 35|  3|        5|\n",
      "|   Tamqrah| 26|  8|       10|\n",
      "|   Gertrud| 39|  8|       10|\n",
      "| Mireielle| 35|  4|        6|\n",
      "|     Jessy| 44|  4|        6|\n",
      "| Kimberley| 30|  4|        6|\n",
      "+----------+---+---+---------+\n",
      "\n"
     ]
    }
   ],
   "source": [
    "dataframe.show()"
   ]
  },
  {
   "cell_type": "code",
   "execution_count": null,
   "id": "3323578d-19a6-4d0d-94ae-1f23b588e20f",
   "metadata": {},
   "outputs": [],
   "source": [
    "#dropping\n"
   ]
  },
  {
   "cell_type": "code",
   "execution_count": 56,
   "id": "fcc95a91-1c55-4f0f-9495-d7fa51a0b388",
   "metadata": {},
   "outputs": [],
   "source": [
    "dataframe=dataframe.drop('Exp aft 2')"
   ]
  },
  {
   "cell_type": "code",
   "execution_count": 57,
   "id": "54b9384a-f221-47ed-b85f-041ca8734f8c",
   "metadata": {},
   "outputs": [
    {
     "name": "stdout",
     "output_type": "stream",
     "text": [
      "+----------+---+---+\n",
      "|      Name|Age|Exp|\n",
      "+----------+---+---+\n",
      "|     Diena| 31| 10|\n",
      "|     Kayla| 25|  9|\n",
      "|Michaelina| 44|  5|\n",
      "|    Corene| 38|  7|\n",
      "|   Deloria| 35|  3|\n",
      "|   Tamqrah| 26|  8|\n",
      "|   Gertrud| 39|  8|\n",
      "| Mireielle| 35|  4|\n",
      "|     Jessy| 44|  4|\n",
      "| Kimberley| 30|  4|\n",
      "+----------+---+---+\n",
      "\n"
     ]
    }
   ],
   "source": [
    "dataframe.show()"
   ]
  },
  {
   "cell_type": "code",
   "execution_count": null,
   "id": "82e466ee-0328-4da2-9b97-3917013c0b4d",
   "metadata": {},
   "outputs": [],
   "source": [
    "#renaming\n"
   ]
  },
  {
   "cell_type": "code",
   "execution_count": 59,
   "id": "fee94340-0a40-49e2-85b3-ae0db61ff4fb",
   "metadata": {},
   "outputs": [
    {
     "name": "stdout",
     "output_type": "stream",
     "text": [
      "+----------+---+---+\n",
      "|  UserName|Age|Exp|\n",
      "+----------+---+---+\n",
      "|     Diena| 31| 10|\n",
      "|     Kayla| 25|  9|\n",
      "|Michaelina| 44|  5|\n",
      "|    Corene| 38|  7|\n",
      "|   Deloria| 35|  3|\n",
      "|   Tamqrah| 26|  8|\n",
      "|   Gertrud| 39|  8|\n",
      "| Mireielle| 35|  4|\n",
      "|     Jessy| 44|  4|\n",
      "| Kimberley| 30|  4|\n",
      "+----------+---+---+\n",
      "\n"
     ]
    }
   ],
   "source": [
    "# dataframe.withColumnRenamed('Name','UserName').show()"
   ]
  }
 ],
 "metadata": {
  "kernelspec": {
   "display_name": "Python 3 (ipykernel)",
   "language": "python",
   "name": "python3"
  },
  "language_info": {
   "codemirror_mode": {
    "name": "ipython",
    "version": 3
   },
   "file_extension": ".py",
   "mimetype": "text/x-python",
   "name": "python",
   "nbconvert_exporter": "python",
   "pygments_lexer": "ipython3",
   "version": "3.8.12"
  }
 },
 "nbformat": 4,
 "nbformat_minor": 5
}
